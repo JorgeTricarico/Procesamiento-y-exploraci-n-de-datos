{
  "nbformat": 4,
  "nbformat_minor": 0,
  "metadata": {
    "colab": {
      "name": "Moda,MultiModa y Desviacion Estandar.ipynb",
      "provenance": [],
      "collapsed_sections": [],
      "authorship_tag": "ABX9TyPc46imfE7/c4oxhH48tDh8",
      "include_colab_link": true
    },
    "kernelspec": {
      "name": "python3",
      "display_name": "Python 3"
    },
    "language_info": {
      "name": "python"
    }
  },
  "cells": [
    {
      "cell_type": "markdown",
      "metadata": {
        "id": "view-in-github",
        "colab_type": "text"
      },
      "source": [
        "<a href=\"https://colab.research.google.com/github/JorgeTricarico/Py-Procesamiento-y-exploracion-de-datos/blob/master/Moda%2CMultiModa_y_Desviacion_Estandar.ipynb\" target=\"_parent\"><img src=\"https://colab.research.google.com/assets/colab-badge.svg\" alt=\"Open In Colab\"/></a>"
      ]
    },
    {
      "cell_type": "code",
      "execution_count": 4,
      "metadata": {
        "colab": {
          "base_uri": "https://localhost:8080/",
          "height": 269
        },
        "id": "4oR24Hfv-Lz6",
        "outputId": "010a6519-c534-416e-b8b8-46bbd8a0c2c6"
      },
      "outputs": [
        {
          "output_type": "stream",
          "name": "stdout",
          "text": [
            "[3, 15, 23, 42, 30, 10, 10, 12]\n",
            "['Nike', 'Adidas', 'Nike', 'Jordan', 'Jordan', 'Rebook', 'Flecha', 'Adidas']\n"
          ]
        },
        {
          "output_type": "error",
          "ename": "AttributeError",
          "evalue": "ignored",
          "traceback": [
            "\u001b[0;31m---------------------------------------------------------------------------\u001b[0m",
            "\u001b[0;31mAttributeError\u001b[0m                            Traceback (most recent call last)",
            "\u001b[0;32m<ipython-input-4-9ecfa95d9042>\u001b[0m in \u001b[0;36m<module>\u001b[0;34m\u001b[0m\n\u001b[1;32m     30\u001b[0m \u001b[0;34m\u001b[0m\u001b[0m\n\u001b[1;32m     31\u001b[0m \u001b[0;31m#MultiModal lista Sponsor\u001b[0m\u001b[0;34m\u001b[0m\u001b[0;34m\u001b[0m\u001b[0;34m\u001b[0m\u001b[0m\n\u001b[0;32m---> 32\u001b[0;31m \u001b[0mprint\u001b[0m\u001b[0;34m(\u001b[0m\u001b[0;34m\"MultiModal lista Sponsor \"\u001b[0m\u001b[0;34m+\u001b[0m \u001b[0mstr\u001b[0m\u001b[0;34m(\u001b[0m\u001b[0mst\u001b[0m\u001b[0;34m.\u001b[0m\u001b[0mmultimode\u001b[0m\u001b[0;34m(\u001b[0m\u001b[0mlistaSponsor\u001b[0m\u001b[0;34m)\u001b[0m\u001b[0;34m)\u001b[0m\u001b[0;34m+\u001b[0m \u001b[0;34m\"\\n\"\u001b[0m\u001b[0;34m)\u001b[0m\u001b[0;34m\u001b[0m\u001b[0;34m\u001b[0m\u001b[0m\n\u001b[0m\u001b[1;32m     33\u001b[0m \u001b[0;34m\u001b[0m\u001b[0m\n\u001b[1;32m     34\u001b[0m \u001b[0;31m#MultiModal lista Tantos\u001b[0m\u001b[0;34m\u001b[0m\u001b[0;34m\u001b[0m\u001b[0;34m\u001b[0m\u001b[0m\n",
            "\u001b[0;31mAttributeError\u001b[0m: module 'statistics' has no attribute 'multimode'"
          ]
        }
      ],
      "source": [
        "import statistics as st\n",
        "\n",
        "#Funcion agregar jugador(numeroJugador, tantosAnotados, Sponsor)\n",
        "\n",
        "def agregarJugador(lista, numJugador, tantosAnotados, Sponsor):\n",
        "  lista.append([numJugador, tantosAnotados, Sponsor])\n",
        "  return lista\n",
        "\n",
        "lista = []\n",
        "\n",
        "agregarJugador(lista, 1, 3, \"Nike\")\n",
        "agregarJugador(lista, 2, 15, \"Adidas\")\n",
        "agregarJugador(lista, 3, 23, \"Nike\")\n",
        "agregarJugador(lista, 4, 42, \"Jordan\")\n",
        "agregarJugador(lista, 5, 30, \"Jordan\")\n",
        "agregarJugador(lista, 6, 10, \"Rebook\")\n",
        "agregarJugador(lista, 7, 10, \"Flecha\")\n",
        "agregarJugador(lista, 8, 12, \"Adidas\")\n",
        "\n",
        "listaTantos = []\n",
        "listaSponsor = []\n",
        "for jugador in ((lista)):\n",
        "  listaTantos.append(jugador[1])\n",
        "for jugador in (lista):\n",
        "  listaSponsor.append(jugador[2])  \n",
        "\n",
        "\n",
        "print(listaTantos)\n",
        "print(listaSponsor)\n",
        "\n",
        "#MultiModal lista Sponsor\n",
        "print(\"MultiModal lista Sponsor \"+ str(st.multimode(listaSponsor))+ \"\\n\") \n",
        "\n",
        "#MultiModal lista Tantos\n",
        "print(\"MultiModal lista Tantos \"+str(st.multimode(listaTantos))+ \"\\n\") \n",
        "\n",
        "#Desviacion estandar\n",
        "print(\"Desviacion estandar \"+ str(st.stdev(listaTantos))+ \"\\n\") "
      ]
    }
  ]
}